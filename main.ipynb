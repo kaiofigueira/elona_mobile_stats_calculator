{
 "cells": [
  {
   "cell_type": "code",
   "execution_count": 22,
   "metadata": {},
   "outputs": [],
   "source": [
    "import pandas as pd\n",
    "from tipo_stats import TipoStats\n",
    "\n",
    "def get_target(max_value_item, valor_item, tipo_stats):\n",
    "    '''\n",
    "    Função para calcular o valor que sera usado para determinar quanto de stats sera necessario para chegar no maximo valor do item\n",
    "    ex: max_value por ser lv 150 e spd é 15, valor_item é 10, entao eu preciso de 9(target). 9/2 = 4. O que somado com o valor do item 10 + 4 = 14. 1 a menos do que o max_value\n",
    "    '''\n",
    "    if tipo_stats in [TipoStats.MDR, TipoStats.PDR, TipoStats.CritChance, \n",
    "                    TipoStats.AddHit, TipoStats.AddShot, TipoStats.Parry, \n",
    "                    TipoStats.MagicPower]:\n",
    "        target = ((max_value_item - valor_item) * 2) - 0.01\n",
    "    else:\n",
    "        target = ((max_value_item - valor_item) * 2) - 1\n",
    "    \n",
    "    print(\"Valor item:\", valor_item)\n",
    "    print(\"Target:\", target)\n",
    "\n",
    "    return target\n",
    "\n",
    "# Função para ler os valores de um arquivo txt\n",
    "def ler_valores(nome_arquivo):\n",
    "    with open(nome_arquivo, 'r') as file:\n",
    "        valores = [float(line.strip()) for line in file.readlines()]\n",
    "    return valores\n",
    "\n",
    "def get_max_value_item(item_lv, tipo_stats: TipoStats):\n",
    "    '''\n",
    "    Obtem o valor maximo do item de acordo com seu tipo de status e item lv. \n",
    "    Ex: item com do tipo SPD e lv 150, seu max_value é 15\n",
    "    '''\n",
    "    df = pd.read_csv(\"docs/stats.csv\")\n",
    "    max_value_item = df[df[\"Item Lv\"] == item_lv][tipo_stats.value].iloc[0]\n",
    "    try:\n",
    "        # Verifica se o tipo_stats está na lista de tipos que devem ser float\n",
    "        if tipo_stats in [TipoStats.MDR, TipoStats.PDR, TipoStats.CritChance, \n",
    "                          TipoStats.AddHit, TipoStats.AddShot, TipoStats.Parry, \n",
    "                          TipoStats.MagicPower]:\n",
    "            max_value_item = float(max_value_item)  # Converte para float\n",
    "        else:\n",
    "            max_value_item = int(max_value_item)  # Converte para int\n",
    "    except (ValueError, TypeError):\n",
    "        # Se a conversão falhar, define um valor padrão ou levanta uma exceção\n",
    "        print(f\"Erro: Valor inválido para {tipo_stats}: {max_value_item}\")\n",
    "        max_value_item = 0  # Ou levante uma exceção, se preferir\n",
    "       \n",
    "    print(\"Max value item:\", max_value_item)\n",
    "\n",
    "    return max_value_item\n",
    "\n",
    "from itertools import combinations\n",
    "\n",
    "def encontrar_melhor_combinacao(valores, target, tipo_stats : TipoStats):\n",
    "    '''\n",
    "    Qual é a melhor combinação que somada seja o mais proximo possivel do target, segundo a lista de valores passada?\n",
    "    Caso a todas as somas possiveis ultrapassem o target, trazer o valor mais proximo sem soma-los.\n",
    "    Valor nao pode exceder o target\n",
    "    '''\n",
    "    # Melhor combinação encontrada\n",
    "    melhor_soma = 0\n",
    "    melhor_combinacao = []\n",
    "\n",
    "    if tipo_stats == TipoStats.BonusDmg:\n",
    "        valores = [valor-10 for valor in valores]\n",
    "\n",
    "    # Testa todas as combinações possíveis\n",
    "    for r in range(1, len(valores) + 1):\n",
    "        for combinacao in combinations(valores, r):\n",
    "            soma_atual = sum(combinacao)\n",
    "            if soma_atual <= target and soma_atual > melhor_soma:\n",
    "                melhor_soma = soma_atual\n",
    "                melhor_combinacao = combinacao\n",
    "    \n",
    "    if tipo_stats == TipoStats.BonusDmg:\n",
    "        melhor_combinacao = [comb+10 for comb in melhor_combinacao]\n",
    "\n",
    "    # Exibir resultado\n",
    "    print(\"Melhor combinação:\", melhor_combinacao)\n",
    "    print(f\"Soma mais próxima de {target}:\", melhor_soma)\n",
    "    print(\"Diferença:\", target - melhor_soma)\n",
    "    \n",
    "# Função para encontrar a melhor combinação\n",
    "def encontrar_melhor_combinacao_valores_subsequentes(valores, target, tipo_stats):\n",
    "    '''\n",
    "    Tem algum dos valores da lista que somando ele + (outro valor / 2) da o target ou um valor aproximado? A soma não pode exceder o target.\n",
    "    '''\n",
    "    melhor_combinacao = None\n",
    "    melhor_diferenca = float('inf')\n",
    "\n",
    "    if tipo_stats == TipoStats.BonusDmg:\n",
    "        valores = [valor-10 for valor in valores]\n",
    "\n",
    "    for v1 in valores:\n",
    "        for v2 in valores:\n",
    "            if v1 != v2:  # Evitar usar o mesmo valor para dividir por 2\n",
    "                soma = v1 + (v2 / 2)\n",
    "                if soma <= target:\n",
    "                    diferenca = target - soma\n",
    "                    if diferenca < melhor_diferenca:\n",
    "                        melhor_diferenca = diferenca\n",
    "                        melhor_combinacao = (v1, v2, soma)\n",
    "\n",
    "    if melhor_combinacao and tipo_stats == TipoStats.BonusDmg:\n",
    "        melhor_combinacao = [comb+10 for comb in melhor_combinacao]\n",
    "        \n",
    "    print(f'Melhor combinação: {melhor_combinacao}')\n",
    "    \n",
    "    return melhor_combinacao"
   ]
  },
  {
   "cell_type": "code",
   "execution_count": 23,
   "metadata": {},
   "outputs": [
    {
     "name": "stdout",
     "output_type": "stream",
     "text": [
      "Max value item: 170\n",
      "Valor item: 56\n",
      "Target: 227\n"
     ]
    }
   ],
   "source": [
    "item_lv = 200\n",
    "tipo_stats = TipoStats.QItemFind\n",
    "valor_item = 56\n",
    "\n",
    "max_value_item = get_max_value_item(item_lv, tipo_stats)\n",
    "\n",
    "target = get_target(max_value_item, valor_item, tipo_stats)\n",
    "\n",
    "# Ler valores do arquivo\n",
    "filename = f'docs/{tipo_stats.value}.txt'  # Ajuste o caminho conforme necessário\n",
    "lista_valores_arquivo = ler_valores(filename)\n",
    "#Remover valor_item da lista, já que será usado um item da propria lista\n",
    "if valor_item in lista_valores_arquivo:\n",
    "    lista_valores_arquivo.remove(valor_item)"
   ]
  },
  {
   "cell_type": "code",
   "execution_count": 24,
   "metadata": {},
   "outputs": [
    {
     "name": "stdout",
     "output_type": "stream",
     "text": [
      "Melhor combinação: (48.0, 44.0, 86.0, 43.0)\n",
      "Soma mais próxima de 227: 221.0\n",
      "Diferença: 6.0\n"
     ]
    }
   ],
   "source": [
    "melhor_combinacao = encontrar_melhor_combinacao(lista_valores_arquivo, target, tipo_stats)"
   ]
  },
  {
   "cell_type": "code",
   "execution_count": 25,
   "metadata": {},
   "outputs": [
    {
     "name": "stdout",
     "output_type": "stream",
     "text": [
      "Melhor combinação: (152.0, 114.0, 209.0)\n"
     ]
    }
   ],
   "source": [
    "melhor_combinacao = encontrar_melhor_combinacao_valores_subsequentes(lista_valores_arquivo, target, tipo_stats)"
   ]
  }
 ],
 "metadata": {
  "kernelspec": {
   "display_name": "Python 3",
   "language": "python",
   "name": "python3"
  },
  "language_info": {
   "codemirror_mode": {
    "name": "ipython",
    "version": 3
   },
   "file_extension": ".py",
   "mimetype": "text/x-python",
   "name": "python",
   "nbconvert_exporter": "python",
   "pygments_lexer": "ipython3",
   "version": "3.11.9"
  }
 },
 "nbformat": 4,
 "nbformat_minor": 2
}
